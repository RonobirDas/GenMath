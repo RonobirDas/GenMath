{
 "cells": [
  {
   "cell_type": "markdown",
   "metadata": {},
   "source": [
    "# Models for Digital Design\n",
    "## Background\n",
    "\n",
    "This chapter is based around Dr. Baker's content on digital IC Design. We will first start with Miller Capacitance. "
   ]
  },
  {
   "cell_type": "markdown",
   "metadata": {},
   "source": [
    "## Miller Capacitance\n",
    "Based around the miller effect discussed in greater detail in Chapter 21 or [in this wiki entry](https://en.wikipedia.org/wiki/Miller_effect)"
   ]
  },
  {
   "cell_type": "code",
   "execution_count": 4,
   "metadata": {},
   "outputs": [],
   "source": [
    "import sympy \n",
    "import matplotlib\n",
    "import numpy"
   ]
  },
  {
   "cell_type": "markdown",
   "metadata": {},
   "source": [
    "The primary equation developed starts with when the capacitor effect as an initial and final stage based on the input and output voltage at the nodes of the switch. The initial and final stages are described as follows: $Q_{init} = C * (0 - VDD) = -C * VDD$ & $Q_{final} = C * (VDD - 0) = C * VDD$\n",
    "\n",
    "An important point to remember is that this is a state transition based effect. The digital switch is shifted from 0 to VDD and back which causes the charging. \n",
    "\n"
   ]
  },
  {
   "cell_type": "code",
   "execution_count": null,
   "metadata": {
    "collapsed": true
   },
   "outputs": [],
   "source": []
  }
 ],
 "metadata": {
  "kernelspec": {
   "display_name": "Python 3",
   "language": "python",
   "name": "python3"
  },
  "language_info": {
   "codemirror_mode": {
    "name": "ipython",
    "version": 3
   },
   "file_extension": ".py",
   "mimetype": "text/x-python",
   "name": "python",
   "nbconvert_exporter": "python",
   "pygments_lexer": "ipython3",
   "version": "3.6.1"
  }
 },
 "nbformat": 4,
 "nbformat_minor": 2
}
